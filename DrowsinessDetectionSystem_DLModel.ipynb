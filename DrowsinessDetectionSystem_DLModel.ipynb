{
 "cells": [
  {
   "cell_type": "markdown",
   "metadata": {},
   "source": [
    "# DROWSINESS DETECTION MODEL\n",
    "\n",
    "Here, I shall try to build and train a model from scratch which would be able to detect drowsiness. The model shall be trained on the **MRL Eye Dataset**. This dataset contains infrared images in low and high resolution, all captured in various lightning conditions and by different devices.  \n",
    "\n",
    "The dataset can be downloaded from [here](http://mrl.cs.vsb.cz/eyedataset \"MRL Eye Dataset\").  \n",
    "\n",
    "In the dataset, we annotated the following properties (the properties are indicated in the following order):\n",
    "- subject ID --> in the dataset, we collected the data of 37 different persons (33 men and 4 women)\n",
    "- image ID --> the dataset consists of **84,898 images**\n",
    "- gender [0 - man, 1 - woman] --> the dataset contains the information about gender for each image (man, woman)\n",
    "- glasses [0 - no, 1 - yes] --> the information if the eye image contains glasses is also provided for each image (with and without the glasses)\n",
    "- eye state [0 - closed, 1 - open] --> this property contains the information about two eye states (open, close)\n",
    "- reflections [0 - none, 1 - small, 2 - big] --> we annotated three reflection states based on the size of reflections (none, small, and big reflections)\n",
    "- lighting conditions [0 - bad, 1 - good] --> each image has two states (bad, good) based on the amount of light during capturing the videos\n",
    "- sensor ID [01 - RealSense, 02 - IDS, 03 - Aptina] --> at this moment, the dataset contains the images captured by three different sensors (Intel RealSense RS 300 sensor with 640 x 480 resolution, IDS Imaging sensor with 1280 x 1024 resolution, and Aptina sensor with 752 x 480 resolution)\n",
    "\n",
    "A sample file name, thus, would be *subject ID-image ID-gender-glasses-eye state-reflections-lighting conditions-sensor ID*\n",
    "\n",
    "Examples of image annotations of the proposed dataset:\n",
    "![](images\\eyedataset_sample.png \"Sample Examples\")\n",
    "\n",
    "---"
   ]
  },
  {
   "cell_type": "markdown",
   "metadata": {},
   "source": [
    "### Take Out 10% of the Data\n",
    "First, I shall experiment on about a tenth of the dataset and find the most promising models. Finally, I shall train the short-listed models on the full dataset and compare their performance. The best model wins ;)"
   ]
  },
  {
   "cell_type": "code",
   "execution_count": 2,
   "metadata": {},
   "outputs": [],
   "source": [
    "import os\n",
    "\n",
    "\n",
    "ROOT_DIR = \"\"\n",
    "MRLDATASET_PATH = os.path.join(ROOT_DIR, \"mrlEyes_2018_01\")\n",
    "DATA_PATH = os.path.join(ROOT_DIR, \"data\") # 10% of data would be stored here\n",
    "os.makedirs(DATA_PATH, exist_ok=True) # create data directory"
   ]
  },
  {
   "cell_type": "markdown",
   "metadata": {},
   "source": [
    "```\n",
    "import shutil\n",
    "import random\n",
    "from tqdm import tqdm\n",
    "\n",
    "\n",
    "# List all subject folders\n",
    "# sd for 'sub_directory'\n",
    "subjectFolders = [sd for sd in os.listdir(MRLDATASET_PATH) if \\\n",
    "    os.path.isdir(os.path.join(MRLDATASET_PATH, sd))]\n",
    "\n",
    "# Test\n",
    "print(\"The first 5 folders in subjectFolders:\", subjectFolders[:6], sep=\"\\n\")\n",
    "print(\"\")\n",
    "print(\"The length of subjectFolders is:\", len(subjectFolders))\n",
    "print(\"\")\n",
    "\n",
    "for folder in tqdm(subjectFolders, desc=\"Processing and copying files\"):\n",
    "    # Create corresponding folder in destination directory\n",
    "    os.makedirs(os.path.join(DATA_PATH, folder), exist_ok=True)\n",
    "    \n",
    "    # List all image files in the current subject folder\n",
    "    # f for 'file'\n",
    "    allFiles = [f for f in os.listdir(os.path.join(MRLDATASET_PATH, folder)) \\\n",
    "        if f.endswith('.png')]\n",
    "    \n",
    "    # Shuffle and select 10%\n",
    "    random.shuffle(allFiles)\n",
    "    subsetFiles = allFiles[:int(0.1 * len(allFiles))]\n",
    "    \n",
    "    # Copy the selected files to the destination directory\n",
    "    for file in tqdm(subsetFiles, desc=f\"Copying files for {folder}\"):\n",
    "        shutil.copy(os.path.join(MRLDATASET_PATH, folder, file), \n",
    "        os.path.join(DATA_PATH, folder, file))\n",
    "    # end for\n",
    "# end for\n",
    "```"
   ]
  },
  {
   "cell_type": "markdown",
   "metadata": {},
   "source": [
    "### Segregating Images into Open and Closed Eyes Directories"
   ]
  },
  {
   "cell_type": "code",
   "execution_count": 3,
   "metadata": {},
   "outputs": [
    {
     "data": {
      "text/plain": [
       "['closed', 'opened']"
      ]
     },
     "execution_count": 3,
     "metadata": {},
     "output_type": "execute_result"
    }
   ],
   "source": [
    "listAllFolders = [sd for sd in os.listdir(DATA_PATH) if \\\n",
    "                  os.path.isdir(os.path.join(DATA_PATH, sd))]\n",
    "\n",
    "listAllFolders"
   ]
  },
  {
   "cell_type": "code",
   "execution_count": 4,
   "metadata": {},
   "outputs": [],
   "source": [
    "OPENED_EYE_DIR = os.path.join(DATA_PATH, \"opened\")\n",
    "os.makedirs(OPENED_EYE_DIR, exist_ok=True)\n",
    "\n",
    "CLOSED_EYE_DIR = os.path.join(DATA_PATH, \"closed\")\n",
    "os.makedirs(CLOSED_EYE_DIR, exist_ok=True)"
   ]
  },
  {
   "cell_type": "code",
   "execution_count": 5,
   "metadata": {},
   "outputs": [
    {
     "name": "stdout",
     "output_type": "stream",
     "text": [
      "Eye State: 1\n",
      "0 s0001\n",
      "1 00008\n",
      "2 0\n",
      "3 0\n",
      "4 1 <-- Eye State\n",
      "5 0\n",
      "6 0\n",
      "7 01.png\n"
     ]
    }
   ],
   "source": [
    "sampleImgName = \"s0001_00008_0_0_1_0_0_01.png\"\n",
    "print(\"Eye State:\", sampleImgName.split(\"_\")[4])\n",
    "for i, info in enumerate(sampleImgName.split(\"_\")):\n",
    "    if i == 4:\n",
    "        print(i, info, \"<-- Eye State\")\n",
    "    else:\n",
    "        print(i, info)\n",
    "    # end if-else\n",
    "# end for"
   ]
  },
  {
   "cell_type": "markdown",
   "metadata": {},
   "source": [
    "```\n",
    "for folder in tqdm(listAllFolders, desc=\"Moving images to their \\\n",
    "respective label folder\"):\n",
    "    folderPath = os.path.join(DATA_PATH, folder)\n",
    "\n",
    "    listAllFiles = [f for f in os.listdir(folderPath) if f.endswith(\".png\")]\n",
    "\n",
    "    for file in tqdm(listAllFiles, desc=f\"Moving images in folder {folder}\"):\n",
    "        # Check the eye status based on the naming convention of the file\n",
    "        eyeState = file.split(\"_\")[4]\n",
    "        \n",
    "        # 0 ==> \"closed\", 1 ==> \"opened\"\n",
    "        if eyeState == '0':\n",
    "            shutil.move(os.path.join(folderPath, file), \\\n",
    "                        os.path.join(CLOSED_EYE_DIR, file))\n",
    "        elif eyeState == '1':\n",
    "            shutil.move(os.path.join(folderPath, file), \\\n",
    "                        os.path.join(OPENED_EYE_DIR, file))\n",
    "        # end if-elif\n",
    "    # end for\n",
    "\n",
    "    # After moving all images delete the empty folder\n",
    "    os.rmdir(folderPath)\n",
    "    print(f\"Deleted folder {folder}!\")\n",
    "# end for\n",
    "```"
   ]
  },
  {
   "cell_type": "code",
   "execution_count": 6,
   "metadata": {},
   "outputs": [
    {
     "name": "stdout",
     "output_type": "stream",
     "text": [
      "# of closed images: 4187\n",
      "# of opened images: 4285\n",
      "Ratio of closed to opened: 0.9771295215869311\n"
     ]
    }
   ],
   "source": [
    "listAllClosedFiles = [f for f in os.listdir(CLOSED_EYE_DIR) if \\\n",
    "                      f.endswith(\".png\")]\n",
    "print(\"# of closed images:\", len(listAllClosedFiles))\n",
    "\n",
    "listAllOpenedFiles = [f for f in os.listdir(OPENED_EYE_DIR) if \\\n",
    "                      f.endswith(\".png\")]\n",
    "print(\"# of opened images:\", len(listAllOpenedFiles))\n",
    "\n",
    "print(\"Ratio of closed to opened:\", len(listAllClosedFiles) / \\\n",
    "      len(listAllOpenedFiles))"
   ]
  },
  {
   "cell_type": "markdown",
   "metadata": {},
   "source": [
    "### Split the Dataset into Train, Validation, and Test Sets"
   ]
  },
  {
   "cell_type": "code",
   "execution_count": 7,
   "metadata": {},
   "outputs": [],
   "source": [
    "# Create the directories\n",
    "TRAIN_DIR = os.path.join(DATA_PATH, 'train')\n",
    "os.makedirs(TRAIN_DIR, exist_ok=True)\n",
    "\n",
    "VALID_DIR = os.path.join(DATA_PATH, 'validation')\n",
    "os.makedirs(VALID_DIR, exist_ok=True)\n",
    "\n",
    "TEST_DIR = os.path.join(DATA_PATH, 'test')\n",
    "os.makedirs(TEST_DIR, exist_ok=True)"
   ]
  },
  {
   "cell_type": "code",
   "execution_count": 9,
   "metadata": {},
   "outputs": [],
   "source": [
    "# Create in each of the above created directories two more directories:\n",
    "# 'opened' and 'closed'\n",
    "for directory in (TRAIN_DIR, VALID_DIR, TEST_DIR):\n",
    "    openedEyeDirHold = os.path.join(directory, 'opened')\n",
    "    os.makedirs(openedEyeDirHold, exist_ok=True)\n",
    "\n",
    "    closedEyeDirHold = os.path.join(directory, 'closed')\n",
    "    os.makedirs(closedEyeDirHold, exist_ok=True)\n",
    "# end for"
   ]
  },
  {
   "cell_type": "code",
   "execution_count": 17,
   "metadata": {},
   "outputs": [],
   "source": [
    "# Split the data randomly by shuffling\n",
    "import shutil\n",
    "import random\n",
    "\n",
    "\n",
    "def splitAndMoveFiles(src, trainDest, valDest, testDest, splitRatio=(0.8, 0.1, \n",
    "                                                                     0.1)):\n",
    "    \"\"\"\n",
    "    Function to split the images in src into trainDest, valDest, testDest by\n",
    "    splitRatio\n",
    "    \"\"\"\n",
    "    listFiles = [f for f in os.listdir(src) if f.endswith('.png')]\n",
    "    random.shuffle(listFiles)\n",
    "\n",
    "    trainPercent = int(splitRatio[0] * len(listFiles))\n",
    "    valPercent = int(splitRatio[1] * len(listFiles))\n",
    "    \n",
    "    trainFiles = listFiles[: trainPercent]\n",
    "    valFiles = listFiles[trainPercent: (trainPercent + valPercent)]\n",
    "    testFiles = listFiles[(trainPercent + valPercent): ]\n",
    "\n",
    "    for files in (trainFiles, valFiles, testFiles):\n",
    "        destPath = {\n",
    "            tuple(trainFiles): trainDest,\n",
    "            tuple(valFiles): valDest,\n",
    "            tuple(testFiles): testDest,\n",
    "        }\n",
    "\n",
    "        for file in files:\n",
    "            shutil.move(\n",
    "                os.path.join(src, file),\n",
    "                os.path.join(destPath[tuple(files)], file)\n",
    "            )\n",
    "        # end for\n",
    "    # end for\n",
    "    \n",
    "    return\n",
    "# end function splitAndMoveFiles()"
   ]
  },
  {
   "cell_type": "markdown",
   "metadata": {},
   "source": [
    "```\n",
    "# Function calls\n",
    "trainDest = os.path.join(TRAIN_DIR, 'opened')\n",
    "valDest = os.path.join(VALID_DIR, 'opened')\n",
    "testDest = os.path.join(TEST_DIR, 'opened')\n",
    "\n",
    "splitAndMoveFiles(OPENED_EYE_DIR, trainDest, valDest, testDest)\n",
    "\n",
    "trainDest = os.path.join(TRAIN_DIR, 'closed')\n",
    "valDest = os.path.join(VALID_DIR, 'closed')\n",
    "testDest = os.path.join(TEST_DIR, 'closed')\n",
    "\n",
    "splitAndMoveFiles(CLOSED_EYE_DIR, trainDest, valDest, testDest)\n",
    "\n",
    "\n",
    "# Delete the empty directories\n",
    "os.rmdir(OPENED_EYE_DIR)\n",
    "os.rmdir(CLOSED_EYE_DIR)\n",
    "```"
   ]
  },
  {
   "cell_type": "code",
   "execution_count": 24,
   "metadata": {},
   "outputs": [
    {
     "name": "stdout",
     "output_type": "stream",
     "text": [
      "In directory -> data\\train\n",
      "    In sub directory -> closed\n",
      "        # of files: 3349\n",
      "    In sub directory -> opened\n",
      "        # of files: 3428\n",
      "In directory -> data\\validation\n",
      "    In sub directory -> closed\n",
      "        # of files: 418\n",
      "    In sub directory -> opened\n",
      "        # of files: 428\n",
      "In directory -> data\\test\n",
      "    In sub directory -> closed\n",
      "        # of files: 420\n",
      "    In sub directory -> opened\n",
      "        # of files: 429\n"
     ]
    }
   ],
   "source": [
    "# Check the size of the directories\n",
    "for directory in (TRAIN_DIR, VALID_DIR, TEST_DIR):\n",
    "    print(f\"In directory -> {directory}\")\n",
    "    subDirs = [sd for sd in os.listdir(directory) \\\n",
    "               if os.path.isdir(os.path.join(directory, sd))]\n",
    "    \n",
    "    for subDir in subDirs:\n",
    "        print(f\"    In sub directory -> {subDir}\")\n",
    "        listFiles = [f for f in os.listdir(os.path.join(directory, subDir))\n",
    "                     if f.endswith('.png')]\n",
    "        print(f\"        # of files: {len(listFiles)}\")\n",
    "    # end for\n",
    "# end for"
   ]
  },
  {
   "cell_type": "markdown",
   "metadata": {},
   "source": [
    "### Exploratory Data Analysis (EDA)"
   ]
  },
  {
   "cell_type": "code",
   "execution_count": null,
   "metadata": {},
   "outputs": [],
   "source": []
  }
 ],
 "metadata": {
  "kernelspec": {
   "display_name": "dd_env",
   "language": "python",
   "name": "python3"
  },
  "language_info": {
   "codemirror_mode": {
    "name": "ipython",
    "version": 3
   },
   "file_extension": ".py",
   "mimetype": "text/x-python",
   "name": "python",
   "nbconvert_exporter": "python",
   "pygments_lexer": "ipython3",
   "version": "3.11.4"
  },
  "orig_nbformat": 4
 },
 "nbformat": 4,
 "nbformat_minor": 2
}
