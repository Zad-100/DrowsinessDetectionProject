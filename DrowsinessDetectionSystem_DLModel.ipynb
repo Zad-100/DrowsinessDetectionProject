{
 "cells": [
  {
   "cell_type": "markdown",
   "metadata": {},
   "source": [
    "# DROWSINESS DETECTION MODEL\n",
    "\n",
    "Here, I shall try to build and train a model from scratch which would be able to detect drowsiness. The model shall be trained on the **MRL Eye Dataset**. This dataset contains infrared images in low and high resolution, all captured in various lightning conditions and by different devices.  \n",
    "\n",
    "The dataset can be downloaded from [here](http://mrl.cs.vsb.cz/eyedataset \"MRL Eye Dataset\").  \n",
    "\n",
    "In the dataset, we annotated the following properties (the properties are indicated in the following order):\n",
    "- subject ID --> in the dataset, we collected the data of 37 different persons (33 men and 4 women)\n",
    "- image ID --> the dataset consists of **84,898 images**\n",
    "- gender [0 - man, 1 - woman] --> the dataset contains the information about gender for each image (man, woman)\n",
    "- glasses [0 - no, 1 - yes] --> the information if the eye image contains glasses is also provided for each image (with and without the glasses)\n",
    "- eye state [0 - closed, 1 - open] --> this property contains the information about two eye states (open, close)\n",
    "- reflections [0 - none, 1 - small, 2 - big] --> we annotated three reflection states based on the size of reflections (none, small, and big reflections)\n",
    "- lighting conditions [0 - bad, 1 - good] --> each image has two states (bad, good) based on the amount of light during capturing the videos\n",
    "- sensor ID [01 - RealSense, 02 - IDS, 03 - Aptina] --> at this moment, the dataset contains the images captured by three different sensors (Intel RealSense RS 300 sensor with 640 x 480 resolution, IDS Imaging sensor with 1280 x 1024 resolution, and Aptina sensor with 752 x 480 resolution)\n",
    "\n",
    "A sample file name, thus, would be *subject ID-image ID-gender-glasses-eye state-reflections-lighting conditions-sensor ID*\n",
    "\n",
    "Examples of image annotations of the proposed dataset:\n",
    "![](images\\eyedataset_sample.png \"Sample Examples\")"
   ]
  },
  {
   "cell_type": "markdown",
   "metadata": {},
   "source": [
    "First, I shall experiment on about a tenth of the dataset and find the most promising models. Finally, I shall train the short-listed models on the full dataset and compare their performance. The best model wins ;)"
   ]
  },
  {
   "cell_type": "markdown",
   "metadata": {},
   "source": [
    "### Take Out 10% of the Data"
   ]
  },
  {
   "cell_type": "code",
   "execution_count": 52,
   "metadata": {},
   "outputs": [],
   "source": [
    "import os\n",
    "\n",
    "\n",
    "ROOT_DIR = \"\"\n",
    "MRLDATASET_PATH = os.path.join(ROOT_DIR, \"mrlEyes_2018_01\")\n",
    "DATA_PATH = os.path.join(ROOT_DIR, \"data\") # 10% of data would be stored here\n",
    "os.makedirs(DATA_PATH, exist_ok=True) # create data directory"
   ]
  },
  {
   "cell_type": "markdown",
   "metadata": {},
   "source": [
    "```\n",
    "import shutil\n",
    "import random\n",
    "from tqdm import tqdm\n",
    "\n",
    "\n",
    "# List all subject folders\n",
    "# sd for 'sub_directory'\n",
    "subjectFolders = [sd for sd in os.listdir(MRLDATASET_PATH) if \\\n",
    "    os.path.isdir(os.path.join(MRLDATASET_PATH, sd))]\n",
    "\n",
    "# Test\n",
    "print(\"The first 5 folders in subjectFolders:\", subjectFolders[:6], sep=\"\\n\")\n",
    "print(\"\")\n",
    "print(\"The length of subjectFolders is:\", len(subjectFolders))\n",
    "print(\"\")\n",
    "\n",
    "for folder in tqdm(subjectFolders, desc=\"Processing and copying files\"):\n",
    "    # Create corresponding folder in destination directory\n",
    "    os.makedirs(os.path.join(DATA_PATH, folder), exist_ok=True)\n",
    "    \n",
    "    # List all image files in the current subject folder\n",
    "    # f for 'file'\n",
    "    allFiles = [f for f in os.listdir(os.path.join(MRLDATASET_PATH, folder)) \\\n",
    "        if f.endswith('.png')]\n",
    "    \n",
    "    # Shuffle and select 10%\n",
    "    random.shuffle(allFiles)\n",
    "    subsetFiles = allFiles[:int(0.1 * len(allFiles))]\n",
    "    \n",
    "    # Copy the selected files to the destination directory\n",
    "    for file in tqdm(subsetFiles, desc=f\"Copying files for {folder}\"):\n",
    "        shutil.copy(os.path.join(MRLDATASET_PATH, folder, file), \n",
    "        os.path.join(DATA_PATH, folder, file))\n",
    "    # end for\n",
    "# end for\n",
    "```"
   ]
  },
  {
   "cell_type": "markdown",
   "metadata": {},
   "source": [
    "### Segregating Images into Open and Closed Eyes Directories"
   ]
  },
  {
   "cell_type": "code",
   "execution_count": 48,
   "metadata": {},
   "outputs": [
    {
     "data": {
      "text/plain": [
       "['s0001',\n",
       " 's0002',\n",
       " 's0003',\n",
       " 's0004',\n",
       " 's0005',\n",
       " 's0006',\n",
       " 's0007',\n",
       " 's0008',\n",
       " 's0009',\n",
       " 's0010',\n",
       " 's0011',\n",
       " 's0012',\n",
       " 's0013',\n",
       " 's0014',\n",
       " 's0015',\n",
       " 's0016',\n",
       " 's0017',\n",
       " 's0018',\n",
       " 's0019',\n",
       " 's0020',\n",
       " 's0021',\n",
       " 's0022',\n",
       " 's0023',\n",
       " 's0024',\n",
       " 's0025',\n",
       " 's0026',\n",
       " 's0027',\n",
       " 's0028',\n",
       " 's0029',\n",
       " 's0030',\n",
       " 's0031',\n",
       " 's0032',\n",
       " 's0033',\n",
       " 's0034',\n",
       " 's0035',\n",
       " 's0036',\n",
       " 's0037']"
      ]
     },
     "execution_count": 48,
     "metadata": {},
     "output_type": "execute_result"
    }
   ],
   "source": [
    "listAllFolders = [sd for sd in os.listdir(DATA_PATH) if \\\n",
    "                  os.path.isdir(os.path.join(DATA_PATH, sd))]\n",
    "\n",
    "listAllFolders"
   ]
  },
  {
   "cell_type": "code",
   "execution_count": 49,
   "metadata": {},
   "outputs": [],
   "source": [
    "OPENED_EYE_DIR = os.path.join(DATA_PATH, \"opened\")\n",
    "os.makedirs(OPENED_EYE_DIR, exist_ok=True)\n",
    "\n",
    "CLOSED_EYE_DIR = os.path.join(DATA_PATH, \"closed\")\n",
    "os.makedirs(CLOSED_EYE_DIR, exist_ok=True)"
   ]
  },
  {
   "cell_type": "code",
   "execution_count": 50,
   "metadata": {},
   "outputs": [
    {
     "name": "stdout",
     "output_type": "stream",
     "text": [
      "Eye State: 1\n",
      "0 s0001\n",
      "1 00008\n",
      "2 0\n",
      "3 0\n",
      "4 1 <-- Eye State\n",
      "5 0\n",
      "6 0\n",
      "7 01.png\n"
     ]
    }
   ],
   "source": [
    "sampleImgName = \"s0001_00008_0_0_1_0_0_01.png\"\n",
    "print(\"Eye State:\", sampleImgName.split(\"_\")[4])\n",
    "for i, info in enumerate(sampleImgName.split(\"_\")):\n",
    "    if i == 4:\n",
    "        print(i, info, \"<-- Eye State\")\n",
    "    else:\n",
    "        print(i, info)\n",
    "    # end if-else\n",
    "# end for"
   ]
  },
  {
   "cell_type": "markdown",
   "metadata": {},
   "source": [
    "```\n",
    "for folder in tqdm(listAllFolders, desc=\"Moving images to their \\\n",
    "respective label folder\"):\n",
    "    folderPath = os.path.join(DATA_PATH, folder)\n",
    "\n",
    "    listAllFiles = [f for f in os.listdir(folderPath) if f.endswith(\".png\")]\n",
    "\n",
    "    for file in tqdm(listAllFiles, desc=f\"Moving images in folder {folder}\"):\n",
    "        # Check the eye status based on the naming convention of the file\n",
    "        eyeState = file.split(\"_\")[4]\n",
    "        \n",
    "        # 0 ==> \"closed\", 1 ==> \"opened\"\n",
    "        if eyeState == '0':\n",
    "            shutil.move(os.path.join(folderPath, file), \\\n",
    "                        os.path.join(CLOSED_EYE_DIR, file))\n",
    "        elif eyeState == '1':\n",
    "            shutil.move(os.path.join(folderPath, file), \\\n",
    "                        os.path.join(OPENED_EYE_DIR, file))\n",
    "        # end if-elif\n",
    "    # end for\n",
    "\n",
    "    # After moving all images delete the empty folder\n",
    "    os.rmdir(folderPath)\n",
    "    print(f\"Deleted folder {folder}!\")\n",
    "# end for\n",
    "```"
   ]
  },
  {
   "cell_type": "code",
   "execution_count": 56,
   "metadata": {},
   "outputs": [
    {
     "name": "stdout",
     "output_type": "stream",
     "text": [
      "# of closed images: 4187\n",
      "# of opened images: 4285\n",
      "Ratio of closed to opened: 0.9771295215869311\n"
     ]
    }
   ],
   "source": [
    "listAllClosedFiles = [f for f in os.listdir(CLOSED_EYE_DIR) if \\\n",
    "                      f.endswith(\".png\")]\n",
    "print(\"# of closed images:\", len(listAllClosedFiles))\n",
    "\n",
    "listAllOpenedFiles = [f for f in os.listdir(OPENED_EYE_DIR) if \\\n",
    "                      f.endswith(\".png\")]\n",
    "print(\"# of opened images:\", len(listAllOpenedFiles))\n",
    "\n",
    "print(\"Ratio of closed to opened:\", len(listAllClosedFiles) / \\\n",
    "      len(listAllOpenedFiles))"
   ]
  },
  {
   "cell_type": "code",
   "execution_count": null,
   "metadata": {},
   "outputs": [],
   "source": []
  }
 ],
 "metadata": {
  "kernelspec": {
   "display_name": "dd_env",
   "language": "python",
   "name": "python3"
  },
  "language_info": {
   "codemirror_mode": {
    "name": "ipython",
    "version": 3
   },
   "file_extension": ".py",
   "mimetype": "text/x-python",
   "name": "python",
   "nbconvert_exporter": "python",
   "pygments_lexer": "ipython3",
   "version": "3.11.4"
  },
  "orig_nbformat": 4
 },
 "nbformat": 4,
 "nbformat_minor": 2
}
