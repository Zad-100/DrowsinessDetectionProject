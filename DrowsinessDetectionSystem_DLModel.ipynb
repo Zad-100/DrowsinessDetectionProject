{
 "cells": [
  {
   "cell_type": "markdown",
   "metadata": {},
   "source": [
    "# DROWSINESS DETECTION MODEL\n",
    "\n",
    "Here, I shall try to build and train a model from scratch which would be able to detect drowsiness. The model shall be trained on the **MRL Eye Dataset**. This dataset contains infrared images in low and high resolution, all captured in various lightning conditions and by different devices.  \n",
    "\n",
    "The dataset can be downloaded from [here](http://mrl.cs.vsb.cz/eyedataset \"MRL Eye Dataset\").  \n",
    "\n",
    "In the dataset, we annotated the following properties (the properties are indicated in the following order):\n",
    "- subject ID --> in the dataset, we collected the data of 37 different persons (33 men and 4 women)\n",
    "- image ID --> the dataset consists of **84,898 images**\n",
    "- gender [0 - man, 1 - woman] --> the dataset contains the information about gender for each image (man, woman)\n",
    "- glasses [0 - no, 1 - yes] --> the information if the eye image contains glasses is also provided for each image (with and without the glasses)\n",
    "- eye state [0 - closed, 1 - open] --> this property contains the information about two eye states (open, close)\n",
    "- reflections [0 - none, 1 - small, 2 - big] --> we annotated three reflection states based on the size of reflections (none, small, and big reflections)\n",
    "- lighting conditions [0 - bad, 1 - good] --> each image has two states (bad, good) based on the amount of light during capturing the videos\n",
    "- sensor ID [01 - RealSense, 02 - IDS, 03 - Aptina] --> at this moment, the dataset contains the images captured by three different sensors (Intel RealSense RS 300 sensor with 640 x 480 resolution, IDS Imaging sensor with 1280 x 1024 resolution, and Aptina sensor with 752 x 480 resolution)\n",
    "\n",
    "A sample file name, thus, would be *subject ID-image ID-gender-glasses-eye state-reflections-lighting conditions-sensor ID*\n",
    "\n",
    "Examples of image annotations of the proposed dataset:\n",
    "![](images\\eyedataset_sample.png \"Sample Examples\")"
   ]
  },
  {
   "cell_type": "markdown",
   "metadata": {},
   "source": [
    "First, I shall experiment on about a tenth of the dataset and find the most promising models. Finally, I shall train the short-listed models on the full dataset and compare their performance. The best model wins ;)"
   ]
  },
  {
   "cell_type": "markdown",
   "metadata": {},
   "source": [
    "### Take Out 10% of the Data"
   ]
  },
  {
   "cell_type": "code",
   "execution_count": 2,
   "metadata": {},
   "outputs": [
    {
     "name": "stdout",
     "output_type": "stream",
     "text": [
      "The first 5 folders in subjectFolders:\n",
      "['s0001', 's0002', 's0003', 's0004', 's0005', 's0006']\n",
      "\n",
      "The length of subjectFolders is: 37\n",
      "\n"
     ]
    },
    {
     "name": "stderr",
     "output_type": "stream",
     "text": [
      "Moving files for s0001: 100%|██████████| 324/324 [00:01<00:00, 171.52it/s]\n",
      "Moving files for s0002: 100%|██████████| 111/111 [00:00<00:00, 173.98it/s]t]\n",
      "Moving files for s0003: 100%|██████████| 67/67 [00:00<00:00, 177.72it/s]/it]\n",
      "Moving files for s0004: 100%|██████████| 106/106 [00:00<00:00, 172.42it/s]s]\n",
      "Moving files for s0005: 100%|██████████| 73/73 [00:00<00:00, 166.29it/s]t/s]\n",
      "Moving files for s0006: 100%|██████████| 101/101 [00:00<00:00, 162.64it/s]s]\n",
      "Moving files for s0007: 100%|██████████| 62/62 [00:00<00:00, 170.80it/s]t/s]\n",
      "Moving files for s0008: 100%|██████████| 83/83 [00:00<00:00, 172.11it/s]t/s]\n",
      "Moving files for s0009: 100%|██████████| 38/38 [00:00<00:00, 156.06it/s]t/s]\n",
      "Moving files for s0010: 100%|██████████| 39/39 [00:00<00:00, 175.67it/s]t/s]\n",
      "Moving files for s0011: 100%|██████████| 164/164 [00:00<00:00, 165.66it/s]/s]\n",
      "Moving files for s0012: 100%|██████████| 872/872 [00:05<00:00, 167.47it/s]/s]\n",
      "Moving files for s0013: 100%|██████████| 360/360 [00:02<00:00, 168.51it/s]it]\n",
      "Moving files for s0014: 100%|██████████| 888/888 [00:05<00:00, 160.81it/s]it]\n",
      "Moving files for s0015: 100%|██████████| 113/113 [00:00<00:00, 171.03it/s]it]\n",
      "Moving files for s0016: 100%|██████████| 188/188 [00:01<00:00, 158.52it/s]it]\n",
      "Moving files for s0017: 100%|██████████| 164/164 [00:01<00:00, 160.78it/s]it]\n",
      "Moving files for s0018: 100%|██████████| 441/441 [00:02<00:00, 160.60it/s]it]\n",
      "Moving files for s0019: 100%|██████████| 617/617 [00:03<00:00, 167.40it/s]it]\n",
      "Moving files for s0020: 100%|██████████| 70/70 [00:00<00:00, 170.10it/s]s/it]\n",
      "Moving files for s0021: 100%|██████████| 98/98 [00:00<00:00, 165.86it/s]s/it]\n",
      "Moving files for s0022: 100%|██████████| 38/38 [00:00<00:00, 154.48it/s]s/it]\n",
      "Moving files for s0023: 100%|██████████| 52/52 [00:00<00:00, 156.07it/s]s/it]\n",
      "Moving files for s0024: 100%|██████████| 75/75 [00:00<00:00, 146.00it/s]it/s]\n",
      "Moving files for s0025: 100%|██████████| 150/150 [00:00<00:00, 150.96it/s]/s]\n",
      "Moving files for s0026: 100%|██████████| 124/124 [00:00<00:00, 152.07it/s]/s]\n",
      "Moving files for s0027: 100%|██████████| 66/66 [00:00<00:00, 154.46it/s]it/s]\n",
      "Moving files for s0028: 100%|██████████| 73/73 [00:00<00:00, 162.38it/s]it/s]\n",
      "Moving files for s0029: 100%|██████████| 139/139 [00:00<00:00, 157.77it/s]/s]\n",
      "Moving files for s0030: 100%|██████████| 138/138 [00:00<00:00, 180.15it/s]/s]\n",
      "Moving files for s0031: 100%|██████████| 173/173 [00:01<00:00, 159.91it/s]/s]\n",
      "Moving files for s0032: 100%|██████████| 616/616 [00:03<00:00, 154.54it/s]/s]\n",
      "Moving files for s0033: 100%|██████████| 68/68 [00:00<00:00, 175.26it/s]s/it]\n",
      "Moving files for s0034: 100%|██████████| 73/73 [00:00<00:00, 161.49it/s]s/it]\n",
      "Moving files for s0035: 100%|██████████| 64/64 [00:00<00:00, 167.98it/s]s/it]\n",
      "Moving files for s0036: 100%|██████████| 619/619 [00:03<00:00, 155.41it/s]/s]\n",
      "Moving files for s0037: 100%|██████████| 1025/1025 [00:06<00:00, 151.67it/s]]\n",
      "Processing and copying files: 100%|██████████| 37/37 [00:52<00:00,  1.43s/it]\n"
     ]
    }
   ],
   "source": [
    "import os\n",
    "import shutil\n",
    "import random\n",
    "from tqdm import tqdm\n",
    "\n",
    "\n",
    "ROOT_DIR = \"\"\n",
    "MRLDATASET_PATH = os.path.join(ROOT_DIR, \"mrlEyes_2018_01\")\n",
    "DATA_PATH = os.path.join(ROOT_DIR, \"data\") # 10% of data would be stored here\n",
    "os.makedirs(DATA_PATH, exist_ok=True) # create data directory\n",
    "\n",
    "# List all subject folders\n",
    "# sd for 'sub_directory'\n",
    "subjectFolders = [sd for sd in os.listdir(MRLDATASET_PATH) if \\\n",
    "    os.path.isdir(os.path.join(MRLDATASET_PATH, sd))]\n",
    "\n",
    "# Test\n",
    "print(\"The first 5 folders in subjectFolders:\", subjectFolders[:6], sep=\"\\n\")\n",
    "print(\"\")\n",
    "print(\"The length of subjectFolders is:\", len(subjectFolders))\n",
    "print(\"\")\n",
    "\n",
    "for folder in tqdm(subjectFolders, desc=\"Processing and copying files\"):\n",
    "    # Create corresponding folder in destination directory\n",
    "    os.makedirs(os.path.join(DATA_PATH, folder), exist_ok=True)\n",
    "    \n",
    "    # List all image files in the current subject folder\n",
    "    # f for 'file'\n",
    "    allFiles = [f for f in os.listdir(os.path.join(MRLDATASET_PATH, folder)) \\\n",
    "        if f.endswith('.png')]\n",
    "    \n",
    "    # Shuffle and select 10%\n",
    "    random.shuffle(allFiles)\n",
    "    subsetFiles = allFiles[:int(0.1 * len(allFiles))]\n",
    "    \n",
    "    # Copy the selected files to the destination directory\n",
    "    for file in tqdm(subsetFiles, desc=f\"Moving files for {folder}\"):\n",
    "        shutil.copy(os.path.join(MRLDATASET_PATH, folder, file), \n",
    "        os.path.join(DATA_PATH, folder, file))\n",
    "    # end for\n",
    "# end for"
   ]
  },
  {
   "cell_type": "code",
   "execution_count": null,
   "metadata": {},
   "outputs": [],
   "source": []
  }
 ],
 "metadata": {
  "kernelspec": {
   "display_name": "dd_env",
   "language": "python",
   "name": "python3"
  },
  "language_info": {
   "codemirror_mode": {
    "name": "ipython",
    "version": 3
   },
   "file_extension": ".py",
   "mimetype": "text/x-python",
   "name": "python",
   "nbconvert_exporter": "python",
   "pygments_lexer": "ipython3",
   "version": "3.11.4"
  },
  "orig_nbformat": 4
 },
 "nbformat": 4,
 "nbformat_minor": 2
}
